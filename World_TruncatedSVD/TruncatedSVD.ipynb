{
 "cells": [
  {
   "cell_type": "code",
   "execution_count": 12,
   "metadata": {},
   "outputs": [],
   "source": [
    "from sklearn.externals import joblib\n",
    "import matplotlib.pylab as plt"
   ]
  },
  {
   "cell_type": "code",
   "execution_count": 6,
   "metadata": {},
   "outputs": [
    {
     "data": {
      "text/plain": [
       "(1000, 1000)"
      ]
     },
     "execution_count": 6,
     "metadata": {},
     "output_type": "execute_result"
    }
   ],
   "source": [
    "with open('data/amazon.pkl', 'rb') as f:\n",
    "    data = joblib.load(f)\n",
    "locals().update(data) ;\n",
    "tdm.shape"
   ]
  },
  {
   "cell_type": "code",
   "execution_count": 7,
   "metadata": {},
   "outputs": [],
   "source": [
    "from sklearn.decomposition import TruncatedSVD"
   ]
  },
  {
   "cell_type": "code",
   "execution_count": 8,
   "metadata": {},
   "outputs": [],
   "source": [
    "svd = TruncatedSVD(n_components=30)  # 열(차원)을 30개로 축소한다는 의미"
   ]
  },
  {
   "cell_type": "code",
   "execution_count": 14,
   "metadata": {},
   "outputs": [
    {
     "data": {
      "text/plain": [
       "(1000, 30)"
      ]
     },
     "execution_count": 14,
     "metadata": {},
     "output_type": "execute_result"
    }
   ],
   "source": [
    "pos = svd.fit_transform(tdm)\n",
    "pos.shape\n",
    "# 상관관계가 높은 녀석들끼리 묶어주는 방식"
   ]
  },
  {
   "cell_type": "code",
   "execution_count": 20,
   "metadata": {},
   "outputs": [
    {
     "data": {
      "text/plain": [
       "array([[ 0.01202681,  0.00425013,  0.00350145, ...,  0.03052883,\n",
       "         0.09520161,  0.12365271],\n",
       "       [ 0.11208652,  0.35319464,  0.21310833, ..., -0.0539762 ,\n",
       "        -0.02390963,  0.0322878 ],\n",
       "       [ 0.33450394, -0.00642341, -0.24384499, ..., -0.02528078,\n",
       "        -0.02086828,  0.00254001],\n",
       "       ...,\n",
       "       [ 0.0362548 ,  0.02089217,  0.0148481 , ...,  0.09367313,\n",
       "         0.04171058, -0.15505606],\n",
       "       [ 0.00780174,  0.00177004,  0.01056829, ..., -0.0298325 ,\n",
       "        -0.01592387,  0.03206722],\n",
       "       [ 0.02126311,  0.0026091 ,  0.01228276, ...,  0.01719783,\n",
       "         0.05820133,  0.02538192]])"
      ]
     },
     "execution_count": 20,
     "metadata": {},
     "output_type": "execute_result"
    }
   ],
   "source": [
    "pos"
   ]
  },
  {
   "cell_type": "code",
   "execution_count": 22,
   "metadata": {},
   "outputs": [
    {
     "data": {
      "text/plain": [
       "array([[ 0.01202681,  0.00425013,  0.00350145, ...,  0.03052883,\n",
       "         0.09520161,  0.12365271],\n",
       "       [ 0.02093017, -0.00072832,  0.00439005, ..., -0.00187001,\n",
       "         0.10187782,  0.14111132],\n",
       "       [ 0.01828932,  0.01120376,  0.0147353 , ...,  0.08909723,\n",
       "         0.10207503,  0.07282617],\n",
       "       ...,\n",
       "       [ 0.0362548 ,  0.02089217,  0.0148481 , ...,  0.09367313,\n",
       "         0.04171058, -0.15505606],\n",
       "       [ 0.00780174,  0.00177004,  0.01056829, ..., -0.0298325 ,\n",
       "        -0.01592387,  0.03206722],\n",
       "       [ 0.02126311,  0.0026091 ,  0.01228276, ...,  0.01719783,\n",
       "         0.05820133,  0.02538192]])"
      ]
     },
     "execution_count": 22,
     "metadata": {},
     "output_type": "execute_result"
    }
   ],
   "source": [
    "pos[sentiment==0]"
   ]
  },
  {
   "cell_type": "code",
   "execution_count": 23,
   "metadata": {},
   "outputs": [
    {
     "data": {
      "text/plain": [
       "numpy.ndarray"
      ]
     },
     "execution_count": 23,
     "metadata": {},
     "output_type": "execute_result"
    }
   ],
   "source": [
    "type(pos)"
   ]
  },
  {
   "cell_type": "code",
   "execution_count": 13,
   "metadata": {},
   "outputs": [
    {
     "data": {
      "text/plain": [
       "[<matplotlib.lines.Line2D at 0x1a212a6ac8>]"
      ]
     },
     "execution_count": 13,
     "metadata": {},
     "output_type": "execute_result"
    },
    {
     "data": {
      "image/png": "[encoded data removed]",
      "text/plain": [
       "<Figure size 432x288 with 1 Axes>"
      ]
     },
     "metadata": {
      "needs_background": "light"
     },
     "output_type": "display_data"
    }
   ],
   "source": [
    "dim1 = 0\n",
    "dim2 = 1\n",
    "plt.plot(pos[sentiment==1, dim1], pos[sentiment==1, dim2], 'bo')\n",
    "plt.plot(pos[sentiment==0, dim1], pos[sentiment==0, dim2], 'ro')"
   ]
  },
  {
   "cell_type": "code",
   "execution_count": 24,
   "metadata": {},
   "outputs": [],
   "source": [
    "from sklearn.preprocessing import Normalizer"
   ]
  },
  {
   "cell_type": "code",
   "execution_count": 25,
   "metadata": {},
   "outputs": [],
   "source": [
    "norm = Normalizer(copy=False)"
   ]
  },
  {
   "cell_type": "code",
   "execution_count": 26,
   "metadata": {},
   "outputs": [],
   "source": [
    "pos2 = norm.fit_transform(pos)"
   ]
  },
  {
   "cell_type": "code",
   "execution_count": 27,
   "metadata": {},
   "outputs": [
    {
     "data": {
      "text/plain": [
       "[<matplotlib.lines.Line2D at 0x1a23eaaa20>]"
      ]
     },
     "execution_count": 27,
     "metadata": {},
     "output_type": "execute_result"
    },
    {
     "data": {
      "image/png": "[encoded data removed]",
      "text/plain": [
       "<Figure size 432x288 with 1 Axes>"
      ]
     },
     "metadata": {
      "needs_background": "light"
     },
     "output_type": "display_data"
    }
   ],
   "source": [
    "dim1 = 0\n",
    "dim2 = 1\n",
    "plt.plot(pos2[sentiment==1, dim1], pos2[sentiment==1, dim2], 'bo')\n",
    "plt.plot(pos2[sentiment==0, dim1], pos2[sentiment==0, dim2], 'ro')"
   ]
  },
  {
   "cell_type": "code",
   "execution_count": 30,
   "metadata": {},
   "outputs": [],
   "source": [
    "from sklearn.pipeline import make_pipeline"
   ]
  },
  {
   "cell_type": "code",
   "execution_count": 31,
   "metadata": {},
   "outputs": [],
   "source": [
    "lsa = make_pipeline(svd, norm)"
   ]
  },
  {
   "cell_type": "code",
   "execution_count": 33,
   "metadata": {},
   "outputs": [
    {
     "data": {
      "text/plain": [
       "array([[ 0.0649157 ,  0.02308599,  0.01892719, ...,  0.15103172,\n",
       "         0.48974287,  0.67330095],\n",
       "       [ 0.14505588,  0.45711358,  0.27584999, ..., -0.06784993,\n",
       "        -0.02929245,  0.04196315],\n",
       "       [ 0.71661685, -0.01376001, -0.52237005, ..., -0.05548762,\n",
       "        -0.0465426 ,  0.00174704],\n",
       "       ...,\n",
       "       [ 0.06521529,  0.03761811,  0.02664364, ...,  0.16597553,\n",
       "         0.07526611, -0.2851014 ],\n",
       "       [ 0.06556518,  0.01464638,  0.08744742, ..., -0.22413293,\n",
       "        -0.2180473 ,  0.27512599],\n",
       "       [ 0.06864243,  0.00833879,  0.03952692, ...,  0.04029766,\n",
       "         0.20419242,  0.09450603]])"
      ]
     },
     "execution_count": 33,
     "metadata": {},
     "output_type": "execute_result"
    }
   ],
   "source": [
    "lsa.transform(tdm)"
   ]
  },
  {
   "cell_type": "code",
   "execution_count": null,
   "metadata": {},
   "outputs": [],
   "source": []
  }
 ],
 "metadata": {
  "kernelspec": {
   "display_name": "Python 3",
   "language": "python",
   "name": "python3"
  },
  "language_info": {
   "codemirror_mode": {
    "name": "ipython",
    "version": 3
   },
   "file_extension": ".py",
   "mimetype": "text/x-python",
   "name": "python",
   "nbconvert_exporter": "python",
   "pygments_lexer": "ipython3",
   "version": "3.7.4"
  }
 },
 "nbformat": 4,
 "nbformat_minor": 2
}
