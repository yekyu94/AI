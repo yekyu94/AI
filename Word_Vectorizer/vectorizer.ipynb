{
 "cells": [
  {
   "cell_type": "code",
   "execution_count": 1,
   "metadata": {},
   "outputs": [
    {
     "name": "stderr",
     "output_type": "stream",
     "text": [
      "/Users/youngkyglee/opt/anaconda3/lib/python3.7/site-packages/sklearn/externals/joblib/__init__.py:15: DeprecationWarning: sklearn.externals.joblib is deprecated in 0.21 and will be removed in 0.23. Please import this functionality directly from joblib, which can be installed with: pip install joblib. If this warning is raised when loading pickled models, you may need to re-serialize those models with scikit-learn 0.21+.\n",
      "  warnings.warn(msg, category=DeprecationWarning)\n"
     ]
    }
   ],
   "source": [
    "from sklearn.externals import joblib"
   ]
  },
  {
   "cell_type": "code",
   "execution_count": 2,
   "metadata": {},
   "outputs": [],
   "source": [
    "def get_nouns():\n",
    "    pass"
   ]
  },
  {
   "cell_type": "code",
   "execution_count": 3,
   "metadata": {},
   "outputs": [
    {
     "name": "stderr",
     "output_type": "stream",
     "text": [
      "/Users/youngkyglee/opt/anaconda3/lib/python3.7/site-packages/sklearn/base.py:306: UserWarning: Trying to unpickle estimator CountVectorizer from version 0.19.1 when using version 0.21.3. This might lead to breaking code or invalid results. Use at your own risk.\n",
      "  UserWarning)\n"
     ]
    }
   ],
   "source": [
    "with open('data/trip.pkl', 'rb') as f:\n",
    "    data = joblib.load(f)\n",
    "locals().update(data)"
   ]
  },
  {
   "cell_type": "code",
   "execution_count": 4,
   "metadata": {},
   "outputs": [],
   "source": [
    "import pandas as pd\n",
    "import numpy as np"
   ]
  },
  {
   "cell_type": "code",
   "execution_count": 5,
   "metadata": {},
   "outputs": [],
   "source": [
    "article = pd.read_csv('data/폭염.csv', engine='python', encoding='cp949')"
   ]
  },
  {
   "cell_type": "code",
   "execution_count": 6,
   "metadata": {},
   "outputs": [],
   "source": [
    "from sklearn.metrics.pairwise import euclidean_distances"
   ]
  },
  {
   "cell_type": "code",
   "execution_count": 30,
   "metadata": {},
   "outputs": [
    {
     "data": {
      "text/plain": [
       "array([[5.38516481]])"
      ]
     },
     "execution_count": 30,
     "metadata": {},
     "output_type": "execute_result"
    }
   ],
   "source": [
    "euclidean_distances(tdm[0], tdm[1])"
   ]
  },
  {
   "cell_type": "code",
   "execution_count": 31,
   "metadata": {},
   "outputs": [
    {
     "data": {
      "text/plain": [
       "'‘추위를 잠시 피해가세요.’   31일 서울 은평구 디지털미디어시티역 버스 정류장에 설치된 노란색 텐트 안으로 사람들이 삼삼오오 모여들었다. 텐트에는 추위를 피해가라는 문구와 함께 ‘따스안’이라는 글씨가 적혀 있었다. .. 120여곳에 설치돼 폭염 속 보행자들에게 작은 그늘을 선사했던 서리풀원두막은 겨울이 되면서 주민 아이디어를 통해 서리풀트리로 거듭났다.'"
      ]
     },
     "execution_count": 31,
     "metadata": {},
     "output_type": "execute_result"
    }
   ],
   "source": [
    "article['본문'][1]"
   ]
  },
  {
   "cell_type": "code",
   "execution_count": 9,
   "metadata": {},
   "outputs": [
    {
     "data": {
      "text/plain": [
       "4156"
      ]
     },
     "execution_count": 9,
     "metadata": {},
     "output_type": "execute_result"
    }
   ],
   "source": [
    "dist = euclidean_distances(tdm[1], tdm[2:])\n",
    "np.argmin(dist) + 1"
   ]
  },
  {
   "cell_type": "code",
   "execution_count": 10,
   "metadata": {},
   "outputs": [
    {
     "data": {
      "text/plain": [
       "'주거환경 개선 위한 노력                     한국토지주택공사(LH)가 천안청수 국민임대단지..LH는 미세먼지, 폭염, 층간소음 등으로 마음껏 뛰어놀 수 있는 공간이 부족한 어린이들에게 1년 내내 이용가능한 전천후 놀이시설을 제공하고 주거환경을 개선하기 위해 임대단지 내 실내놀이터 조성 사업을 추진하게 됐다.'"
      ]
     },
     "execution_count": 10,
     "metadata": {},
     "output_type": "execute_result"
    }
   ],
   "source": [
    "article['본문'][4156]"
   ]
  },
  {
   "cell_type": "code",
   "execution_count": 11,
   "metadata": {},
   "outputs": [],
   "source": [
    "from sklearn.metrics.pairwise import cosine_similarity"
   ]
  },
  {
   "cell_type": "code",
   "execution_count": 32,
   "metadata": {},
   "outputs": [],
   "source": [
    "sim = cosine_similarity(tdm[1], tdm[2:])"
   ]
  },
  {
   "cell_type": "code",
   "execution_count": 33,
   "metadata": {},
   "outputs": [
    {
     "data": {
      "text/plain": [
       "3"
      ]
     },
     "execution_count": 33,
     "metadata": {},
     "output_type": "execute_result"
    }
   ],
   "source": [
    "np.argmax(sim)+1"
   ]
  },
  {
   "cell_type": "code",
   "execution_count": 34,
   "metadata": {},
   "outputs": [
    {
     "data": {
      "text/plain": [
       "'‘추위를 잠시 피해가세요.’   31일 서울 은평구 디지털미디어시티역 버스 정류장에 설치된 노란색 텐트 안으로 사람들이 삼삼오오 모여들었다. 텐트에는 추위를 피해가라는 문구와 함께 ‘따스안’이라는 글씨가 적혀 있었다. .. 120여곳에 설치돼 폭염 속 보행자들에게 작은 그늘을 선사했던 서리풀원두막은 겨울이 되면서 주민 아이디어를 통해 서리풀트리로 거듭났다.'"
      ]
     },
     "execution_count": 34,
     "metadata": {},
     "output_type": "execute_result"
    }
   ],
   "source": [
    "article['본문'][1]"
   ]
  },
  {
   "cell_type": "code",
   "execution_count": 15,
   "metadata": {},
   "outputs": [
    {
     "data": {
      "text/plain": [
       "'오늘 오전 8시쯤 서울 금천구청역 인근 고속선 열차 선로가 벌어져 서울에서 부산으로 가는 KTX 열차 4대가 지연됐습니다.  선로는 1시간 반 만에 복구됐지만 이 구간을 지나려던 열차들이 다른 길로 돌아가면서 최장 28분가량 운행이 늦어졌습니다.  코레일은 폭염의 영향으로 용접해놓은 선로 일부가 벌어진 것으로 보인다\"며 \"자세한 원인은 조사중\"이라고 ..\"'"
      ]
     },
     "execution_count": 15,
     "metadata": {},
     "output_type": "execute_result"
    }
   ],
   "source": [
    "article['본문'][12181]"
   ]
  },
  {
   "cell_type": "code",
   "execution_count": 16,
   "metadata": {},
   "outputs": [],
   "source": [
    "from operator import itemgetter"
   ]
  },
  {
   "cell_type": "code",
   "execution_count": 20,
   "metadata": {},
   "outputs": [],
   "source": [
    "from sklearn.cluster import SpectralClustering"
   ]
  },
  {
   "cell_type": "code",
   "execution_count": 50,
   "metadata": {},
   "outputs": [],
   "source": [
    "cl = SpectralClustering(n_clusters=6, affinity=cosine_similarity, random_state=1234)"
   ]
  },
  {
   "cell_type": "code",
   "execution_count": 51,
   "metadata": {},
   "outputs": [
    {
     "name": "stderr",
     "output_type": "stream",
     "text": [
      "/anaconda3/lib/python3.5/site-packages/sklearn/manifold/spectral_embedding_.py:237: UserWarning: Graph is not fully connected, spectral embedding may not work as expected.\n",
      "  warnings.warn(\"Graph is not fully connected, spectral embedding\"\n"
     ]
    },
    {
     "data": {
      "text/plain": [
       "array([0, 0, 0, 0, 0, 0, 0, 0, 0, 0, 0, 0, 0, 0, 0, 0, 0, 0, 0, 0, 0, 0,\n",
       "       0, 0, 0, 0, 0, 0, 0, 0, 0, 0, 0, 0, 0, 0, 0, 0, 0, 0, 0, 0, 0, 0,\n",
       "       0, 0, 0, 0, 0, 0, 0, 0, 0, 0, 0, 0, 0, 0, 0, 0, 0, 0, 0, 0, 0, 0,\n",
       "       0, 0, 0, 0, 0, 0, 0, 0, 0, 0, 0, 0, 0, 0, 0, 0, 0, 0, 0, 0, 0, 0,\n",
       "       0, 0, 0, 0, 0, 0, 0, 0, 0, 0, 0, 0, 0, 0, 0, 0, 0, 0, 0, 0, 0, 0,\n",
       "       0, 0, 0, 0, 0, 0, 0, 0, 0, 0, 0, 0, 0, 0, 0, 0, 0, 0, 0, 0, 0, 0,\n",
       "       0, 0, 0, 0, 0, 0, 0, 0, 0, 0, 0, 0, 0, 0, 0, 0, 0, 0, 0, 0, 0, 0,\n",
       "       0, 0, 0, 0, 0, 0, 0, 0, 0, 0, 0, 0, 0, 0, 0, 0, 0, 0, 0, 0, 0, 0,\n",
       "       0, 0, 0, 5, 0, 0, 0, 0, 0, 0, 0, 0, 0, 0, 0, 0, 5, 0, 0, 0, 0, 0,\n",
       "       5, 0, 0, 0, 0, 0, 0, 0, 0, 0, 0, 0, 0, 0, 0, 0, 0, 0, 0, 0, 0, 0,\n",
       "       0, 0, 0, 0, 0, 0, 0, 0, 0, 0, 0, 0, 0, 0, 0, 0, 0, 0, 0, 0, 0, 0,\n",
       "       0, 0, 0, 0, 0, 0, 0, 0, 0, 0, 0, 0, 0, 0, 0, 0, 0, 0, 0, 0, 0, 0,\n",
       "       0, 0, 0, 0, 0, 0, 0, 0, 0, 0, 0, 0, 0, 0, 0, 0, 0, 0, 0, 0, 0, 0,\n",
       "       0, 0, 0, 0, 5, 0, 0, 0, 0, 0, 0, 0, 0, 0, 0, 0, 0, 0, 0, 0, 0, 0,\n",
       "       0, 0, 0, 0, 0, 5, 5, 0, 0, 0, 5, 0, 0, 0, 0, 5, 0, 0, 0, 0, 5, 5,\n",
       "       0, 0, 0, 0, 0, 0, 0, 0, 0, 0, 0, 0, 0, 0, 0, 0, 0, 0, 0, 0, 0, 3,\n",
       "       3, 3, 5, 5, 3, 3, 5, 3, 0, 5, 5, 0, 0, 0, 0, 0, 0, 0, 0, 5, 5, 0,\n",
       "       0, 0, 0, 5, 0, 0, 5, 5, 0, 0, 0, 5, 0, 0, 5, 0, 0, 0, 0, 0, 0, 0,\n",
       "       0, 0, 0, 5, 0, 0, 0, 0, 0, 0, 0, 0, 0, 0, 0, 0, 0, 0, 0, 0, 5, 0,\n",
       "       0, 0, 5, 4, 4, 4, 0, 4, 4, 5, 4, 4, 0, 0, 0, 5, 0, 0, 0, 0, 0, 0,\n",
       "       0, 0, 0, 0, 0, 0, 0, 0, 5, 5, 0, 5, 5, 5, 0, 5, 5, 0, 0, 5, 0, 5,\n",
       "       0, 0, 0, 0, 5, 0, 0, 0, 0, 0, 0, 0, 0, 0, 0, 0, 0, 0, 0, 0, 0, 0,\n",
       "       0, 0, 0, 0, 0, 0, 0, 0, 0, 0, 0, 0, 0, 0, 0, 0, 0, 0, 0, 0, 0, 5,\n",
       "       5, 0, 0, 0, 0, 0, 0, 0, 0, 0, 0, 5, 0, 0, 0, 0, 0, 0, 5, 5, 0, 0,\n",
       "       0, 5, 0, 5, 5, 5, 0, 0, 0, 0, 0, 5, 5, 0, 5, 5, 5, 0, 0, 0, 5, 0,\n",
       "       5, 5, 5, 5, 5, 5, 5, 0, 0, 5, 0, 5, 5, 5, 5, 0, 0, 0, 0, 0, 5, 5,\n",
       "       0, 5, 5, 0, 0, 0, 0, 5, 5, 0, 0, 0, 0, 0, 0, 0, 0, 0, 0, 0, 0, 0,\n",
       "       0, 0, 0, 0, 0, 0, 0, 0, 0, 0, 0, 0, 0, 0, 5, 0, 0, 0, 0, 0, 0, 0,\n",
       "       0, 0, 0, 0, 0, 0, 0, 2, 0, 1, 0, 0, 0, 0, 0, 0, 0, 0, 0, 0, 0, 0,\n",
       "       0, 0, 0, 0, 0, 0, 0, 0, 0, 0, 0, 0, 0, 0, 0, 0, 0, 0, 0, 0, 0, 0,\n",
       "       0, 0, 0, 0, 0, 0, 0, 0, 0, 0, 0, 0, 0, 0, 0, 0, 0, 5, 0, 0, 0, 0,\n",
       "       0, 0, 5, 0, 0, 0, 0, 0, 0, 0, 0, 0, 0, 0, 0, 0, 5, 0, 0, 0, 0, 0,\n",
       "       0, 0, 0, 0, 0, 0, 0, 0, 0, 0, 0, 0, 0, 0, 0, 0, 0, 0, 0, 0, 0, 0,\n",
       "       0, 0, 0, 0, 0, 0, 0, 0, 0, 0, 5, 0, 0, 0, 0, 0, 0, 0, 0, 0, 0, 0,\n",
       "       0, 0, 0, 0, 0, 0, 0, 0, 0, 0, 0, 0, 0, 0, 0, 0, 0, 0, 0, 0, 0, 0,\n",
       "       0, 0, 0, 0, 0, 0, 0, 0, 0, 0, 0, 0, 0, 0, 0, 0, 0, 0, 0, 0, 0, 0,\n",
       "       0, 0, 0, 0, 0, 0, 0, 0, 0, 0, 0, 0, 0, 0, 0, 0, 0, 0, 0, 0, 0, 0,\n",
       "       0, 0, 0, 0, 0, 0, 0, 0, 0, 0, 0, 0, 0, 0, 0, 0, 0, 0, 0, 0, 0, 0,\n",
       "       0, 0, 0, 0, 0, 0, 0, 5, 0, 0, 0, 0, 0, 0, 0, 0, 0, 0, 0, 0, 0, 0,\n",
       "       0, 0, 0, 0, 0, 0, 0, 0, 0, 0, 0, 0, 0, 0, 5, 0, 0, 0, 0, 0, 0, 5,\n",
       "       0, 0, 0, 0, 0, 0, 0, 0, 0, 5, 0, 0, 0, 0, 0, 0], dtype=int32)"
      ]
     },
     "execution_count": 51,
     "metadata": {},
     "output_type": "execute_result"
    }
   ],
   "source": [
    "labels = cl.fit_predict(tdm)\n",
    "labels"
   ]
  },
  {
   "cell_type": "code",
   "execution_count": 52,
   "metadata": {},
   "outputs": [
    {
     "data": {
      "text/html": [
       "<div>\n",
       "<style scoped>\n",
       "    .dataframe tbody tr th:only-of-type {\n",
       "        vertical-align: middle;\n",
       "    }\n",
       "\n",
       "    .dataframe tbody tr th {\n",
       "        vertical-align: top;\n",
       "    }\n",
       "\n",
       "    .dataframe thead th {\n",
       "        text-align: right;\n",
       "    }\n",
       "</style>\n",
       "<table border=\"1\" class=\"dataframe\">\n",
       "  <thead>\n",
       "    <tr style=\"text-align: right;\">\n",
       "      <th></th>\n",
       "      <th>0</th>\n",
       "      <th>1</th>\n",
       "      <th>2</th>\n",
       "      <th>3</th>\n",
       "      <th>4</th>\n",
       "      <th>5</th>\n",
       "      <th>6</th>\n",
       "      <th>7</th>\n",
       "      <th>8</th>\n",
       "      <th>9</th>\n",
       "    </tr>\n",
       "  </thead>\n",
       "  <tbody>\n",
       "    <tr>\n",
       "      <th>0</th>\n",
       "      <td>(음식, 193)</td>\n",
       "      <td>(가격, 125)</td>\n",
       "      <td>(방문, 110)</td>\n",
       "      <td>(분위기, 89)</td>\n",
       "      <td>(친절, 87)</td>\n",
       "      <td>(직원, 78)</td>\n",
       "      <td>(식사, 76)</td>\n",
       "      <td>(고기, 68)</td>\n",
       "      <td>(메뉴, 67)</td>\n",
       "      <td>(사람, 65)</td>\n",
       "    </tr>\n",
       "    <tr>\n",
       "      <th>1</th>\n",
       "      <td>(사이즈, 1)</td>\n",
       "      <td>(커서, 1)</td>\n",
       "      <td>(필라델피아, 1)</td>\n",
       "      <td>(!!, 0)</td>\n",
       "      <td>(!!!, 0)</td>\n",
       "      <td>(가가, 0)</td>\n",
       "      <td>(가게, 0)</td>\n",
       "      <td>(가격, 0)</td>\n",
       "      <td>(가도, 0)</td>\n",
       "      <td>(가면, 0)</td>\n",
       "    </tr>\n",
       "    <tr>\n",
       "      <th>2</th>\n",
       "      <td>(필라델피아, 1)</td>\n",
       "      <td>(!!, 0)</td>\n",
       "      <td>(!!!, 0)</td>\n",
       "      <td>(가가, 0)</td>\n",
       "      <td>(가게, 0)</td>\n",
       "      <td>(가격, 0)</td>\n",
       "      <td>(가도, 0)</td>\n",
       "      <td>(가면, 0)</td>\n",
       "      <td>(가보세, 0)</td>\n",
       "      <td>(가성, 0)</td>\n",
       "    </tr>\n",
       "    <tr>\n",
       "      <th>3</th>\n",
       "      <td>(호떡, 8)</td>\n",
       "      <td>(인산, 3)</td>\n",
       "      <td>(한번, 2)</td>\n",
       "      <td>(휴게, 2)</td>\n",
       "      <td>(기름, 1)</td>\n",
       "      <td>(드라이브, 1)</td>\n",
       "      <td>(바람, 1)</td>\n",
       "      <td>(사실, 1)</td>\n",
       "      <td>(산책, 1)</td>\n",
       "      <td>(서서, 1)</td>\n",
       "    </tr>\n",
       "    <tr>\n",
       "      <th>4</th>\n",
       "      <td>(냉면, 11)</td>\n",
       "      <td>(평양, 4)</td>\n",
       "      <td>(육수, 3)</td>\n",
       "      <td>(국물, 2)</td>\n",
       "      <td>(동치미, 2)</td>\n",
       "      <td>(대전, 1)</td>\n",
       "      <td>(만두, 1)</td>\n",
       "      <td>(분점, 1)</td>\n",
       "      <td>(신성동, 1)</td>\n",
       "      <td>(양이, 1)</td>\n",
       "    </tr>\n",
       "    <tr>\n",
       "      <th>5</th>\n",
       "      <td>(대전, 49)</td>\n",
       "      <td>(칼국수, 29)</td>\n",
       "      <td>(위치, 17)</td>\n",
       "      <td>(맛집, 14)</td>\n",
       "      <td>(바지락, 10)</td>\n",
       "      <td>(조개, 9)</td>\n",
       "      <td>(식당, 7)</td>\n",
       "      <td>(근처, 6)</td>\n",
       "      <td>(국물, 5)</td>\n",
       "      <td>(버섯, 5)</td>\n",
       "    </tr>\n",
       "  </tbody>\n",
       "</table>\n",
       "</div>"
      ],
      "text/plain": [
       "            0          1           2          3          4          5  \\\n",
       "0   (음식, 193)  (가격, 125)   (방문, 110)  (분위기, 89)   (친절, 87)   (직원, 78)   \n",
       "1    (사이즈, 1)    (커서, 1)  (필라델피아, 1)    (!!, 0)   (!!!, 0)    (가가, 0)   \n",
       "2  (필라델피아, 1)    (!!, 0)    (!!!, 0)    (가가, 0)    (가게, 0)    (가격, 0)   \n",
       "3     (호떡, 8)    (인산, 3)     (한번, 2)    (휴게, 2)    (기름, 1)  (드라이브, 1)   \n",
       "4    (냉면, 11)    (평양, 4)     (육수, 3)    (국물, 2)   (동치미, 2)    (대전, 1)   \n",
       "5    (대전, 49)  (칼국수, 29)    (위치, 17)   (맛집, 14)  (바지락, 10)    (조개, 9)   \n",
       "\n",
       "          6         7         8         9  \n",
       "0  (식사, 76)  (고기, 68)  (메뉴, 67)  (사람, 65)  \n",
       "1   (가게, 0)   (가격, 0)   (가도, 0)   (가면, 0)  \n",
       "2   (가도, 0)   (가면, 0)  (가보세, 0)   (가성, 0)  \n",
       "3   (바람, 1)   (사실, 1)   (산책, 1)   (서서, 1)  \n",
       "4   (만두, 1)   (분점, 1)  (신성동, 1)   (양이, 1)  \n",
       "5   (식당, 7)   (근처, 6)   (국물, 5)   (버섯, 5)  "
      ]
     },
     "execution_count": 52,
     "metadata": {},
     "output_type": "execute_result"
    }
   ],
   "source": [
    "words = vectorizer.get_feature_names()\n",
    "\n",
    "freq_words = []\n",
    "for i in range(6):\n",
    "    count = tdm[labels == i, :].sum(axis=0)\n",
    "    ws = [w for w in sorted(zip(words, count.flat),key=itemgetter(1), reverse=True)[:10]]\n",
    "    freq_words.append(ws)\n",
    "pd.DataFrame(freq_words)"
   ]
  },
  {
   "cell_type": "code",
   "execution_count": null,
   "metadata": {},
   "outputs": [],
   "source": []
  }
 ],
 "metadata": {
  "kernelspec": {
   "display_name": "Python 3",
   "language": "python",
   "name": "python3"
  },
  "language_info": {
   "codemirror_mode": {
    "name": "ipython",
    "version": 3
   },
   "file_extension": ".py",
   "mimetype": "text/x-python",
   "name": "python",
   "nbconvert_exporter": "python",
   "pygments_lexer": "ipython3",
   "version": "3.7.4"
  }
 },
 "nbformat": 4,
 "nbformat_minor": 2
}
