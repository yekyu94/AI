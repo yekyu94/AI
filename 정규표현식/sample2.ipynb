{
 "cells": [
  {
   "cell_type": "code",
   "execution_count": 5,
   "metadata": {},
   "outputs": [],
   "source": [
    "import pandas as pd\n",
    "import re"
   ]
  },
  {
   "cell_type": "code",
   "execution_count": 6,
   "metadata": {},
   "outputs": [
    {
     "data": {
      "text/html": [
       "<div>\n",
       "<style scoped>\n",
       "    .dataframe tbody tr th:only-of-type {\n",
       "        vertical-align: middle;\n",
       "    }\n",
       "\n",
       "    .dataframe tbody tr th {\n",
       "        vertical-align: top;\n",
       "    }\n",
       "\n",
       "    .dataframe thead th {\n",
       "        text-align: right;\n",
       "    }\n",
       "</style>\n",
       "<table border=\"1\" class=\"dataframe\">\n",
       "  <thead>\n",
       "    <tr style=\"text-align: right;\">\n",
       "      <th></th>\n",
       "      <th>이름</th>\n",
       "      <th>이메일</th>\n",
       "      <th>연락처</th>\n",
       "      <th>담당</th>\n",
       "      <th>차량</th>\n",
       "      <th>동반자</th>\n",
       "    </tr>\n",
       "  </thead>\n",
       "  <tbody>\n",
       "    <tr>\n",
       "      <th>0</th>\n",
       "      <td>아이언맨</td>\n",
       "      <td>아이언맨\\niron@gmail.com</td>\n",
       "      <td>010 1234 1111</td>\n",
       "      <td>진행자 소개(10m)</td>\n",
       "      <td>네</td>\n",
       "      <td>4명</td>\n",
       "    </tr>\n",
       "    <tr>\n",
       "      <th>1</th>\n",
       "      <td>캡틴아메리카</td>\n",
       "      <td>캡틴아메리카\\ncaptain@gmail.com</td>\n",
       "      <td>010.1234.2222</td>\n",
       "      <td>소그룹 형성(10m)</td>\n",
       "      <td>아니오</td>\n",
       "      <td>1명</td>\n",
       "    </tr>\n",
       "    <tr>\n",
       "      <th>2</th>\n",
       "      <td>토르</td>\n",
       "      <td>토르\\nthor@gmail.com</td>\n",
       "      <td>010-1234-3333</td>\n",
       "      <td>1차 토론(1h 20m)</td>\n",
       "      <td>아니요</td>\n",
       "      <td>4명 (애 2명)</td>\n",
       "    </tr>\n",
       "    <tr>\n",
       "      <th>3</th>\n",
       "      <td>호크아이</td>\n",
       "      <td>호크아이\\neye@gmail.com</td>\n",
       "      <td>1012344444</td>\n",
       "      <td>휴식(15m)</td>\n",
       "      <td>네니요</td>\n",
       "      <td>1명</td>\n",
       "    </tr>\n",
       "    <tr>\n",
       "      <th>4</th>\n",
       "      <td>블랙위도우</td>\n",
       "      <td>블랙위도우\\nblack@gmail.com</td>\n",
       "      <td>010 1234 5555</td>\n",
       "      <td>발표(1h)</td>\n",
       "      <td>네니오</td>\n",
       "      <td>3명 - 애 2명 (30일 저녁 귀가 예정)</td>\n",
       "    </tr>\n",
       "    <tr>\n",
       "      <th>5</th>\n",
       "      <td>헐크</td>\n",
       "      <td>헐크\\nhulk@gmail.com</td>\n",
       "      <td>010.1234.6666</td>\n",
       "      <td>발표(0.5h)</td>\n",
       "      <td>모름</td>\n",
       "      <td>2명</td>\n",
       "    </tr>\n",
       "    <tr>\n",
       "      <th>6</th>\n",
       "      <td>퀵실버</td>\n",
       "      <td>퀵실버\\nquick@gmail.com</td>\n",
       "      <td>010-1234-7777</td>\n",
       "      <td>2차 토론(1h 40m)</td>\n",
       "      <td>아니</td>\n",
       "      <td>1명</td>\n",
       "    </tr>\n",
       "    <tr>\n",
       "      <th>7</th>\n",
       "      <td>스칼렛위치</td>\n",
       "      <td>스칼렛위치\\nwitch@gmail.com</td>\n",
       "      <td>1012348888</td>\n",
       "      <td>휴식(15m)</td>\n",
       "      <td>아니네</td>\n",
       "      <td>1명(30일 저녁 귀가 예정)</td>\n",
       "    </tr>\n",
       "    <tr>\n",
       "      <th>8</th>\n",
       "      <td>앤트맨</td>\n",
       "      <td>앤트맨\\nant@gmail.com</td>\n",
       "      <td>010 1234 9999</td>\n",
       "      <td>발표(1.5h)</td>\n",
       "      <td>내</td>\n",
       "      <td>1명</td>\n",
       "    </tr>\n",
       "    <tr>\n",
       "      <th>9</th>\n",
       "      <td>스파이더맨</td>\n",
       "      <td>스파이더맨\\nspider@gmail.com</td>\n",
       "      <td>010.1234.0000</td>\n",
       "      <td>발표(30m)</td>\n",
       "      <td>네</td>\n",
       "      <td>2명(30일 저녁 귀가)</td>\n",
       "    </tr>\n",
       "  </tbody>\n",
       "</table>\n",
       "</div>"
      ],
      "text/plain": [
       "       이름                        이메일            연락처             담당   차량  \\\n",
       "0    아이언맨       아이언맨\\niron@gmail.com  010 1234 1111    진행자 소개(10m)    네   \n",
       "1  캡틴아메리카  캡틴아메리카\\ncaptain@gmail.com  010.1234.2222    소그룹 형성(10m)  아니오   \n",
       "2      토르         토르\\nthor@gmail.com  010-1234-3333  1차 토론(1h 20m)  아니요   \n",
       "3    호크아이        호크아이\\neye@gmail.com     1012344444        휴식(15m)  네니요   \n",
       "4   블랙위도우     블랙위도우\\nblack@gmail.com  010 1234 5555         발표(1h)  네니오   \n",
       "5      헐크         헐크\\nhulk@gmail.com  010.1234.6666       발표(0.5h)   모름   \n",
       "6     퀵실버       퀵실버\\nquick@gmail.com  010-1234-7777  2차 토론(1h 40m)   아니   \n",
       "7   스칼렛위치     스칼렛위치\\nwitch@gmail.com     1012348888        휴식(15m)  아니네   \n",
       "8     앤트맨         앤트맨\\nant@gmail.com  010 1234 9999       발표(1.5h)    내   \n",
       "9   스파이더맨    스파이더맨\\nspider@gmail.com  010.1234.0000        발표(30m)    네   \n",
       "\n",
       "                        동반자  \n",
       "0                        4명  \n",
       "1                        1명  \n",
       "2                 4명 (애 2명)  \n",
       "3                        1명  \n",
       "4  3명 - 애 2명 (30일 저녁 귀가 예정)  \n",
       "5                        2명  \n",
       "6                        1명  \n",
       "7          1명(30일 저녁 귀가 예정)  \n",
       "8                        1명  \n",
       "9             2명(30일 저녁 귀가)  "
      ]
     },
     "execution_count": 6,
     "metadata": {},
     "output_type": "execute_result"
    }
   ],
   "source": [
    "df = pd.read_csv(\"data/참가자.csv\", engine=\"python\", encoding=\"euc-kr\")\n",
    "df.head(10)"
   ]
  },
  {
   "cell_type": "markdown",
   "metadata": {},
   "source": [
    "### 합계구하기"
   ]
  },
  {
   "cell_type": "code",
   "execution_count": 7,
   "metadata": {},
   "outputs": [],
   "source": [
    "scj = df[\"담당\"]\n",
    "comp = re.compile(r'\\((?:(?P<hour>(?:\\d+.)?\\d+)h ?)?(?:(?P<minute>\\d+)m)?\\)')"
   ]
  },
  {
   "cell_type": "code",
   "execution_count": 8,
   "metadata": {},
   "outputs": [
    {
     "name": "stdout",
     "output_type": "stream",
     "text": [
      "460.0\n"
     ]
    }
   ],
   "source": [
    "total = 0\n",
    "for i in scj:\n",
    "    if re.search(comp, i).group('minute'):\n",
    "        total += int(re.search(comp,i).group('minute'))\n",
    "    if re.search(comp,i).group('hour'):\n",
    "        total += float(re.search(comp,i).group('hour'))*60\n",
    "print(total)"
   ]
  },
  {
   "cell_type": "markdown",
   "metadata": {},
   "source": [
    "### 연락처 정리"
   ]
  },
  {
   "cell_type": "code",
   "execution_count": 9,
   "metadata": {},
   "outputs": [],
   "source": [
    "phone = df['연락처']"
   ]
  },
  {
   "cell_type": "code",
   "execution_count": 13,
   "metadata": {},
   "outputs": [],
   "source": [
    "result = []\n",
    "for i in phone:\n",
    "    if i[0] != '0': i = '0'+i\n",
    "    tmp = re.findall(r\"(\\d+)\", i)\n",
    "    x = ''.join(tmp)\n",
    "    result.append(x)"
   ]
  },
  {
   "cell_type": "code",
   "execution_count": 14,
   "metadata": {},
   "outputs": [
    {
     "data": {
      "text/plain": [
       "['01012341111',\n",
       " '01012342222',\n",
       " '01012343333',\n",
       " '01012344444',\n",
       " '01012345555',\n",
       " '01012346666',\n",
       " '01012347777',\n",
       " '01012348888',\n",
       " '01012349999',\n",
       " '01012340000',\n",
       " '01012341234']"
      ]
     },
     "execution_count": 14,
     "metadata": {},
     "output_type": "execute_result"
    }
   ],
   "source": [
    "result"
   ]
  },
  {
   "cell_type": "code",
   "execution_count": null,
   "metadata": {},
   "outputs": [],
   "source": []
  }
 ],
 "metadata": {
  "kernelspec": {
   "display_name": "Python 3",
   "language": "python",
   "name": "python3"
  },
  "language_info": {
   "codemirror_mode": {
    "name": "ipython",
    "version": 3
   },
   "file_extension": ".py",
   "mimetype": "text/x-python",
   "name": "python",
   "nbconvert_exporter": "python",
   "pygments_lexer": "ipython3",
   "version": "3.5.5"
  },
  "toc": {
   "base_numbering": 1,
   "nav_menu": {},
   "number_sections": true,
   "sideBar": true,
   "skip_h1_title": false,
   "title_cell": "Table of Contents",
   "title_sidebar": "Contents",
   "toc_cell": false,
   "toc_position": {},
   "toc_section_display": true,
   "toc_window_display": false
  },
  "varInspector": {
   "cols": {
    "lenName": 16,
    "lenType": 16,
    "lenVar": 40
   },
   "kernels_config": {
    "python": {
     "delete_cmd_postfix": "",
     "delete_cmd_prefix": "del ",
     "library": "var_list.py",
     "varRefreshCmd": "print(var_dic_list())"
    },
    "r": {
     "delete_cmd_postfix": ") ",
     "delete_cmd_prefix": "rm(",
     "library": "var_list.r",
     "varRefreshCmd": "cat(var_dic_list()) "
    }
   },
   "types_to_exclude": [
    "module",
    "function",
    "builtin_function_or_method",
    "instance",
    "_Feature"
   ],
   "window_display": false
  }
 },
 "nbformat": 4,
 "nbformat_minor": 2
}
