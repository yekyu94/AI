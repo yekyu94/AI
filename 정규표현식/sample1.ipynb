{
 "cells": [
  {
   "cell_type": "code",
   "execution_count": 1,
   "metadata": {},
   "outputs": [],
   "source": [
    "import pandas as pd\n",
    "import re"
   ]
  },
  {
   "cell_type": "code",
   "execution_count": 11,
   "metadata": {},
   "outputs": [
    {
     "data": {
      "text/html": [
       "<div>\n",
       "<style scoped>\n",
       "    .dataframe tbody tr th:only-of-type {\n",
       "        vertical-align: middle;\n",
       "    }\n",
       "\n",
       "    .dataframe tbody tr th {\n",
       "        vertical-align: top;\n",
       "    }\n",
       "\n",
       "    .dataframe thead th {\n",
       "        text-align: right;\n",
       "    }\n",
       "</style>\n",
       "<table border=\"1\" class=\"dataframe\">\n",
       "  <thead>\n",
       "    <tr style=\"text-align: right;\">\n",
       "      <th></th>\n",
       "      <th>이름</th>\n",
       "      <th>이메일</th>\n",
       "      <th>연락처</th>\n",
       "      <th>담당</th>\n",
       "      <th>차량</th>\n",
       "      <th>동반자</th>\n",
       "    </tr>\n",
       "  </thead>\n",
       "  <tbody>\n",
       "    <tr>\n",
       "      <th>0</th>\n",
       "      <td>아이언맨</td>\n",
       "      <td>아이언맨\\niron@gmail.com</td>\n",
       "      <td>010 1234 1111</td>\n",
       "      <td>진행자 소개(10m)</td>\n",
       "      <td>네</td>\n",
       "      <td>4명</td>\n",
       "    </tr>\n",
       "    <tr>\n",
       "      <th>1</th>\n",
       "      <td>캡틴아메리카</td>\n",
       "      <td>캡틴아메리카\\ncaptain@gmail.com</td>\n",
       "      <td>010.1234.2222</td>\n",
       "      <td>소그룹 형성(10m)</td>\n",
       "      <td>아니오</td>\n",
       "      <td>1명</td>\n",
       "    </tr>\n",
       "    <tr>\n",
       "      <th>2</th>\n",
       "      <td>토르</td>\n",
       "      <td>토르\\nthor@gmail.com</td>\n",
       "      <td>010-1234-3333</td>\n",
       "      <td>1차 토론(1h 20m)</td>\n",
       "      <td>아니요</td>\n",
       "      <td>4명 (애 2명)</td>\n",
       "    </tr>\n",
       "    <tr>\n",
       "      <th>3</th>\n",
       "      <td>호크아이</td>\n",
       "      <td>호크아이\\neye@gmail.com</td>\n",
       "      <td>1012344444</td>\n",
       "      <td>휴식(15m)</td>\n",
       "      <td>네니요</td>\n",
       "      <td>1명</td>\n",
       "    </tr>\n",
       "    <tr>\n",
       "      <th>4</th>\n",
       "      <td>블랙위도우</td>\n",
       "      <td>블랙위도우\\nblack@gmail.com</td>\n",
       "      <td>010 1234 5555</td>\n",
       "      <td>발표(1h)</td>\n",
       "      <td>네니오</td>\n",
       "      <td>3명 - 애 2명 (30일 저녁 귀가 예정)</td>\n",
       "    </tr>\n",
       "    <tr>\n",
       "      <th>5</th>\n",
       "      <td>헐크</td>\n",
       "      <td>헐크\\nhulk@gmail.com</td>\n",
       "      <td>010.1234.6666</td>\n",
       "      <td>발표(0.5h)</td>\n",
       "      <td>모름</td>\n",
       "      <td>2명</td>\n",
       "    </tr>\n",
       "    <tr>\n",
       "      <th>6</th>\n",
       "      <td>퀵실버</td>\n",
       "      <td>퀵실버\\nquick@gmail.com</td>\n",
       "      <td>010-1234-7777</td>\n",
       "      <td>2차 토론(1h 40m)</td>\n",
       "      <td>아니</td>\n",
       "      <td>1명</td>\n",
       "    </tr>\n",
       "    <tr>\n",
       "      <th>7</th>\n",
       "      <td>스칼렛위치</td>\n",
       "      <td>스칼렛위치\\nwitch@gmail.com</td>\n",
       "      <td>1012348888</td>\n",
       "      <td>휴식(15m)</td>\n",
       "      <td>아니네</td>\n",
       "      <td>1명(30일 저녁 귀가 예정)</td>\n",
       "    </tr>\n",
       "    <tr>\n",
       "      <th>8</th>\n",
       "      <td>앤트맨</td>\n",
       "      <td>앤트맨\\nant@gmail.com</td>\n",
       "      <td>010 1234 9999</td>\n",
       "      <td>발표(1.5h)</td>\n",
       "      <td>내</td>\n",
       "      <td>1명</td>\n",
       "    </tr>\n",
       "    <tr>\n",
       "      <th>9</th>\n",
       "      <td>스파이더맨</td>\n",
       "      <td>스파이더맨\\nspider@gmail.com</td>\n",
       "      <td>010.1234.0000</td>\n",
       "      <td>발표(30m)</td>\n",
       "      <td>네</td>\n",
       "      <td>2명(30일 저녁 귀가)</td>\n",
       "    </tr>\n",
       "  </tbody>\n",
       "</table>\n",
       "</div>"
      ],
      "text/plain": [
       "       이름                        이메일            연락처             담당   차량  \\\n",
       "0    아이언맨       아이언맨\\niron@gmail.com  010 1234 1111    진행자 소개(10m)    네   \n",
       "1  캡틴아메리카  캡틴아메리카\\ncaptain@gmail.com  010.1234.2222    소그룹 형성(10m)  아니오   \n",
       "2      토르         토르\\nthor@gmail.com  010-1234-3333  1차 토론(1h 20m)  아니요   \n",
       "3    호크아이        호크아이\\neye@gmail.com     1012344444        휴식(15m)  네니요   \n",
       "4   블랙위도우     블랙위도우\\nblack@gmail.com  010 1234 5555         발표(1h)  네니오   \n",
       "5      헐크         헐크\\nhulk@gmail.com  010.1234.6666       발표(0.5h)   모름   \n",
       "6     퀵실버       퀵실버\\nquick@gmail.com  010-1234-7777  2차 토론(1h 40m)   아니   \n",
       "7   스칼렛위치     스칼렛위치\\nwitch@gmail.com     1012348888        휴식(15m)  아니네   \n",
       "8     앤트맨         앤트맨\\nant@gmail.com  010 1234 9999       발표(1.5h)    내   \n",
       "9   스파이더맨    스파이더맨\\nspider@gmail.com  010.1234.0000        발표(30m)    네   \n",
       "\n",
       "                        동반자  \n",
       "0                        4명  \n",
       "1                        1명  \n",
       "2                 4명 (애 2명)  \n",
       "3                        1명  \n",
       "4  3명 - 애 2명 (30일 저녁 귀가 예정)  \n",
       "5                        2명  \n",
       "6                        1명  \n",
       "7          1명(30일 저녁 귀가 예정)  \n",
       "8                        1명  \n",
       "9             2명(30일 저녁 귀가)  "
      ]
     },
     "execution_count": 11,
     "metadata": {},
     "output_type": "execute_result"
    }
   ],
   "source": [
    "df = pd.read_csv(\"data/참가자.csv\", engine=\"python\", encoding=\"euc-kr\")\n",
    "df.head(10)"
   ]
  },
  {
   "cell_type": "code",
   "execution_count": 54,
   "metadata": {},
   "outputs": [],
   "source": [
    "v = df[\"차량\"]"
   ]
  },
  {
   "cell_type": "code",
   "execution_count": 18,
   "metadata": {},
   "outputs": [
    {
     "data": {
      "text/plain": [
       "<_sre.SRE_Match object; span=(0, 1), match='네'>"
      ]
     },
     "execution_count": 18,
     "metadata": {},
     "output_type": "execute_result"
    }
   ],
   "source": [
    "re.match(r\"네\",v[0])"
   ]
  },
  {
   "cell_type": "code",
   "execution_count": 19,
   "metadata": {},
   "outputs": [],
   "source": [
    "def findItem(value):\n",
    "    if re.match(r\"네$|아니[오요]?\", value):\n",
    "        print(value, \"OK\")\n",
    "    else:\n",
    "        print(value, \"NO\")"
   ]
  },
  {
   "cell_type": "code",
   "execution_count": 26,
   "metadata": {
    "run_control": {
     "marked": true
    }
   },
   "outputs": [
    {
     "name": "stdout",
     "output_type": "stream",
     "text": [
      "네 OK\n",
      "아니오 OK\n",
      "아니요 OK\n",
      "네니요 NO\n",
      "네니오 NO\n",
      "모름 NO\n",
      "아니 OK\n",
      "아니네 OK\n",
      "내 NO\n",
      "네 OK\n",
      "아니요 OK\n"
     ]
    },
    {
     "data": {
      "text/plain": [
       "[None, None, None, None, None, None, None, None, None, None, None]"
      ]
     },
     "execution_count": 26,
     "metadata": {},
     "output_type": "execute_result"
    }
   ],
   "source": [
    "x = map(findItem, v)\n",
    "list(x)"
   ]
  },
  {
   "cell_type": "code",
   "execution_count": 159,
   "metadata": {},
   "outputs": [
    {
     "data": {
      "text/plain": [
       "0                           4명\n",
       "1                           1명\n",
       "2                    4명 (애 2명)\n",
       "3                           1명\n",
       "4     3명 - 애 2명 (30일 저녁 귀가 예정)\n",
       "5                           2명\n",
       "6                           1명\n",
       "7             1명(30일 저녁 귀가 예정)\n",
       "8                           1명\n",
       "9                2명(30일 저녁 귀가)\n",
       "10               1명(30일 저녁 귀가)\n",
       "Name: 동반자, dtype: object"
      ]
     },
     "execution_count": 159,
     "metadata": {},
     "output_type": "execute_result"
    }
   ],
   "source": [
    "c = df[\"동반자\"]\n",
    "c"
   ]
  },
  {
   "cell_type": "code",
   "execution_count": 174,
   "metadata": {},
   "outputs": [],
   "source": [
    "count = 0\n",
    "def findDBJ(value):\n",
    "    global count\n",
    "    tmp = re.findall(r\"(\\d+)명\", value)\n",
    "    #print(value, tmp)\n",
    "    for x in tmp:\n",
    "        count += int(x)\n",
    "tmp = list(map(findDBJ, c))"
   ]
  },
  {
   "cell_type": "code",
   "execution_count": null,
   "metadata": {},
   "outputs": [],
   "source": []
  },
  {
   "cell_type": "code",
   "execution_count": 172,
   "metadata": {},
   "outputs": [
    {
     "data": {
      "text/plain": [
       "['10명', '20명']"
      ]
     },
     "execution_count": 172,
     "metadata": {},
     "output_type": "execute_result"
    }
   ],
   "source": [
    "re.findall(r\"\\d+명\", \"우린 10명 저쪽은 20명\")"
   ]
  },
  {
   "cell_type": "code",
   "execution_count": 129,
   "metadata": {
    "scrolled": true
   },
   "outputs": [
    {
     "data": {
      "text/plain": [
       "0       진행자 소개(10m)\n",
       "1       소그룹 형성(10m)\n",
       "2     1차 토론(1h 20m)\n",
       "3           휴식(15m)\n",
       "4            발표(1h)\n",
       "5          발표(0.5h)\n",
       "6     2차 토론(1h 40m)\n",
       "7           휴식(15m)\n",
       "8          발표(1.5h)\n",
       "9           발표(30m)\n",
       "10          회고(20m)\n",
       "Name: 담당, dtype: object"
      ]
     },
     "execution_count": 129,
     "metadata": {},
     "output_type": "execute_result"
    }
   ],
   "source": [
    "df[\"담당\"]"
   ]
  },
  {
   "cell_type": "code",
   "execution_count": 180,
   "metadata": {},
   "outputs": [
    {
     "name": "stdout",
     "output_type": "stream",
     "text": [
      "460.0\n"
     ]
    }
   ],
   "source": [
    "total = 0\n",
    "for i in d:\n",
    "    if re.search(comp, i).group('minute'):\n",
    "        total += int(re.search(comp,i).group('minute'))\n",
    "    if re.search(comp,i).group('hour'):\n",
    "        total += float(re.search(comp,i).group('hour'))*60\n",
    "print(total)"
   ]
  },
  {
   "cell_type": "code",
   "execution_count": 177,
   "metadata": {},
   "outputs": [
    {
     "data": {
      "text/plain": [
       "re.compile(r'\\((?:(?P<hour>(?:\\d+.)?\\d+)h ?)?(?:(?P<minute>\\d+)m)?\\)',\n",
       "re.UNICODE)"
      ]
     },
     "execution_count": 177,
     "metadata": {},
     "output_type": "execute_result"
    }
   ],
   "source": [
    "\n",
    "comp"
   ]
  },
  {
   "cell_type": "code",
   "execution_count": 178,
   "metadata": {},
   "outputs": [],
   "source": [
    "d = df[\"담당\"]"
   ]
  },
  {
   "cell_type": "code",
   "execution_count": null,
   "metadata": {},
   "outputs": [],
   "source": []
  }
 ],
 "metadata": {
  "gist": {
   "data": {
    "description": "Desktop/Module 4/Untitled.ipynb",
    "public": false
   },
   "id": ""
  },
  "kernelspec": {
   "display_name": "Python 3",
   "language": "python",
   "name": "python3"
  },
  "language_info": {
   "codemirror_mode": {
    "name": "ipython",
    "version": 3
   },
   "file_extension": ".py",
   "mimetype": "text/x-python",
   "name": "python",
   "nbconvert_exporter": "python",
   "pygments_lexer": "ipython3",
   "version": "3.6.5"
  },
  "toc": {
   "base_numbering": 1,
   "nav_menu": {},
   "number_sections": true,
   "sideBar": true,
   "skip_h1_title": false,
   "title_cell": "Table of Contents",
   "title_sidebar": "Contents",
   "toc_cell": false,
   "toc_position": {},
   "toc_section_display": true,
   "toc_window_display": false
  },
  "varInspector": {
   "cols": {
    "lenName": 16,
    "lenType": 16,
    "lenVar": 40
   },
   "kernels_config": {
    "python": {
     "delete_cmd_postfix": "",
     "delete_cmd_prefix": "del ",
     "library": "var_list.py",
     "varRefreshCmd": "print(var_dic_list())"
    },
    "r": {
     "delete_cmd_postfix": ") ",
     "delete_cmd_prefix": "rm(",
     "library": "var_list.r",
     "varRefreshCmd": "cat(var_dic_list()) "
    }
   },
   "types_to_exclude": [
    "module",
    "function",
    "builtin_function_or_method",
    "instance",
    "_Feature"
   ],
   "window_display": false
  }
 },
 "nbformat": 4,
 "nbformat_minor": 2
}
